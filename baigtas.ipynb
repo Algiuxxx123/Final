{
 "cells": [
  {
   "cell_type": "markdown",
   "metadata": {},
   "source": [
    "Sony stock price prediction."
   ]
  },
  {
   "cell_type": "code",
   "execution_count": 1,
   "metadata": {},
   "outputs": [],
   "source": [
    "import numpy as np\n",
    "import matplotlib.pyplot as plt\n",
    "import pandas as pd"
   ]
  },
  {
   "cell_type": "code",
   "execution_count": 2,
   "metadata": {},
   "outputs": [],
   "source": [
    "dataset_train = pd.read_csv('Sony_10y.csv')"
   ]
  },
  {
   "cell_type": "code",
   "execution_count": 3,
   "metadata": {},
   "outputs": [],
   "source": [
    "training_set = dataset_train.iloc[:, 1:2].values"
   ]
  },
  {
   "cell_type": "code",
   "execution_count": 6,
   "metadata": {},
   "outputs": [],
   "source": [
    "from sklearn.preprocessing import MinMaxScaler"
   ]
  },
  {
   "cell_type": "code",
   "execution_count": 7,
   "metadata": {},
   "outputs": [],
   "source": [
    "sc = MinMaxScaler(feature_range = (0, 1))"
   ]
  },
  {
   "cell_type": "code",
   "execution_count": 8,
   "metadata": {},
   "outputs": [],
   "source": [
    "training_set_scaled = sc.fit_transform(training_set)"
   ]
  },
  {
   "cell_type": "code",
   "execution_count": 9,
   "metadata": {},
   "outputs": [],
   "source": [
    "X_tr = [] "
   ]
  },
  {
   "cell_type": "code",
   "execution_count": 10,
   "metadata": {},
   "outputs": [],
   "source": [
    "y_tr = [] "
   ]
  },
  {
   "cell_type": "code",
   "execution_count": 11,
   "metadata": {},
   "outputs": [],
   "source": [
    "for i in range(90, 2519):\n",
    "    X_tr.append(training_set_scaled[i-90:i, 0])\n",
    "    y_tr.append(training_set_scaled[i, 0])"
   ]
  },
  {
   "cell_type": "code",
   "execution_count": 12,
   "metadata": {},
   "outputs": [],
   "source": [
    "X_tr, y_tr = np.array(X_tr), np.array(y_tr)"
   ]
  },
  {
   "cell_type": "code",
   "execution_count": 13,
   "metadata": {},
   "outputs": [],
   "source": [
    "X_tr = np.reshape(X_tr, (X_tr.shape[0],X_tr.shape[1], 1))"
   ]
  },
  {
   "cell_type": "code",
   "execution_count": 14,
   "metadata": {},
   "outputs": [
    {
     "name": "stderr",
     "output_type": "stream",
     "text": [
      "Using TensorFlow backend.\n"
     ]
    }
   ],
   "source": [
    "from keras.models import Sequential\n",
    "from keras.layers import Dense\n",
    "from keras.layers import LSTM\n",
    "from keras.layers import Dropout"
   ]
  },
  {
   "cell_type": "code",
   "execution_count": 15,
   "metadata": {},
   "outputs": [],
   "source": [
    "regressor = Sequential()"
   ]
  },
  {
   "cell_type": "code",
   "execution_count": 16,
   "metadata": {},
   "outputs": [],
   "source": [
    "regressor.add(LSTM(units = 50, return_sequences =True, input_shape = (X_tr.shape[1], 1)))"
   ]
  },
  {
   "cell_type": "code",
   "execution_count": 17,
   "metadata": {},
   "outputs": [],
   "source": [
    "regressor.add(Dropout(0.2))"
   ]
  },
  {
   "cell_type": "code",
   "execution_count": 18,
   "metadata": {},
   "outputs": [],
   "source": [
    "regressor.add(LSTM(units = 50, return_sequences =True))"
   ]
  },
  {
   "cell_type": "code",
   "execution_count": 19,
   "metadata": {},
   "outputs": [],
   "source": [
    "regressor.add(Dropout(0.2))"
   ]
  },
  {
   "cell_type": "code",
   "execution_count": 20,
   "metadata": {},
   "outputs": [],
   "source": [
    "regressor.add(LSTM(units = 50, return_sequences = True))"
   ]
  },
  {
   "cell_type": "code",
   "execution_count": 21,
   "metadata": {},
   "outputs": [],
   "source": [
    "regressor.add(Dropout(0.2))"
   ]
  },
  {
   "cell_type": "code",
   "execution_count": 22,
   "metadata": {},
   "outputs": [],
   "source": [
    "regressor.add(LSTM(units = 50))"
   ]
  },
  {
   "cell_type": "code",
   "execution_count": 23,
   "metadata": {},
   "outputs": [],
   "source": [
    "regressor.add(Dropout(0.2))"
   ]
  },
  {
   "cell_type": "code",
   "execution_count": 24,
   "metadata": {},
   "outputs": [],
   "source": [
    "regressor.add(Dense(units = 1))"
   ]
  },
  {
   "cell_type": "code",
   "execution_count": 25,
   "metadata": {},
   "outputs": [],
   "source": [
    "regressor.compile(optimizer = 'adam', loss = 'mean_squared_error')"
   ]
  },
  {
   "cell_type": "code",
   "execution_count": 33,
   "metadata": {},
   "outputs": [
    {
     "name": "stdout",
     "output_type": "stream",
     "text": [
      "Epoch 1/100\n",
      "2429/2429 [==============================] - 42s 17ms/step - loss: 0.0024\n",
      "Epoch 2/100\n",
      "2429/2429 [==============================] - 53s 22ms/step - loss: 0.0027\n",
      "Epoch 3/100\n",
      "2429/2429 [==============================] - 40s 16ms/step - loss: 0.0024\n",
      "Epoch 4/100\n",
      "2429/2429 [==============================] - 41s 17ms/step - loss: 0.0022\n",
      "Epoch 5/100\n",
      "2429/2429 [==============================] - 39s 16ms/step - loss: 0.0022\n",
      "Epoch 6/100\n",
      "2429/2429 [==============================] - 42s 17ms/step - loss: 0.0023\n",
      "Epoch 7/100\n",
      "2429/2429 [==============================] - 40s 16ms/step - loss: 0.0020\n",
      "Epoch 8/100\n",
      "2429/2429 [==============================] - 40s 17ms/step - loss: 0.0021\n",
      "Epoch 9/100\n",
      "2429/2429 [==============================] - 45s 18ms/step - loss: 0.0021\n",
      "Epoch 10/100\n",
      "2429/2429 [==============================] - 42s 17ms/step - loss: 0.0020\n",
      "Epoch 11/100\n",
      "2429/2429 [==============================] - 45s 18ms/step - loss: 0.0018\n",
      "Epoch 12/100\n",
      "2429/2429 [==============================] - 41s 17ms/step - loss: 0.0019\n",
      "Epoch 13/100\n",
      "2429/2429 [==============================] - 42s 17ms/step - loss: 0.0018\n",
      "Epoch 14/100\n",
      "2429/2429 [==============================] - 46s 19ms/step - loss: 0.0017\n",
      "Epoch 15/100\n",
      "2429/2429 [==============================] - 57s 24ms/step - loss: 0.0017\n",
      "Epoch 16/100\n",
      "2429/2429 [==============================] - 55s 23ms/step - loss: 0.0018\n",
      "Epoch 17/100\n",
      "2429/2429 [==============================] - 54s 22ms/step - loss: 0.0017\n",
      "Epoch 18/100\n",
      "2429/2429 [==============================] - 42s 17ms/step - loss: 0.0017\n",
      "Epoch 19/100\n",
      "2429/2429 [==============================] - 43s 18ms/step - loss: 0.0016\n",
      "Epoch 20/100\n",
      "2429/2429 [==============================] - 40s 17ms/step - loss: 0.0016\n",
      "Epoch 21/100\n",
      "2429/2429 [==============================] - 36s 15ms/step - loss: 0.0015\n",
      "Epoch 22/100\n",
      "2429/2429 [==============================] - 36s 15ms/step - loss: 0.0017\n",
      "Epoch 23/100\n",
      "2429/2429 [==============================] - 52s 21ms/step - loss: 0.0015\n",
      "Epoch 24/100\n",
      "2429/2429 [==============================] - 44s 18ms/step - loss: 0.0014\n",
      "Epoch 25/100\n",
      "2429/2429 [==============================] - 43s 18ms/step - loss: 0.0014\n",
      "Epoch 26/100\n",
      "2429/2429 [==============================] - 40s 16ms/step - loss: 0.0015\n",
      "Epoch 27/100\n",
      "2429/2429 [==============================] - 37s 15ms/step - loss: 0.0013\n",
      "Epoch 28/100\n",
      "2429/2429 [==============================] - 45s 18ms/step - loss: 0.0014\n",
      "Epoch 29/100\n",
      "2429/2429 [==============================] - 42s 17ms/step - loss: 0.0014\n",
      "Epoch 30/100\n",
      "2429/2429 [==============================] - 41s 17ms/step - loss: 0.0013\n",
      "Epoch 31/100\n",
      "2429/2429 [==============================] - 35s 15ms/step - loss: 0.0013\n",
      "Epoch 32/100\n",
      "2429/2429 [==============================] - 35s 14ms/step - loss: 0.0014\n",
      "Epoch 33/100\n",
      "2429/2429 [==============================] - 33s 13ms/step - loss: 0.0012\n",
      "Epoch 34/100\n",
      "2429/2429 [==============================] - 38s 16ms/step - loss: 0.0013\n",
      "Epoch 35/100\n",
      "2429/2429 [==============================] - 38s 16ms/step - loss: 0.0012\n",
      "Epoch 36/100\n",
      "2429/2429 [==============================] - 40s 17ms/step - loss: 0.0012\n",
      "Epoch 37/100\n",
      "2429/2429 [==============================] - 36s 15ms/step - loss: 0.0011\n",
      "Epoch 38/100\n",
      "2429/2429 [==============================] - 38s 15ms/step - loss: 0.0011\n",
      "Epoch 39/100\n",
      "2429/2429 [==============================] - 36s 15ms/step - loss: 0.0012\n",
      "Epoch 40/100\n",
      "2429/2429 [==============================] - 34s 14ms/step - loss: 0.0011\n",
      "Epoch 41/100\n",
      "2429/2429 [==============================] - 34s 14ms/step - loss: 0.0010\n",
      "Epoch 42/100\n",
      "2429/2429 [==============================] - 44s 18ms/step - loss: 0.0011\n",
      "Epoch 43/100\n",
      "2429/2429 [==============================] - 40s 16ms/step - loss: 0.0011\n",
      "Epoch 44/100\n",
      "2429/2429 [==============================] - 40s 16ms/step - loss: 9.9575e-04\n",
      "Epoch 45/100\n",
      "2429/2429 [==============================] - 37s 15ms/step - loss: 0.0010\n",
      "Epoch 46/100\n",
      "2429/2429 [==============================] - 39s 16ms/step - loss: 0.0010\n",
      "Epoch 47/100\n",
      "2429/2429 [==============================] - 32s 13ms/step - loss: 9.6322e-04\n",
      "Epoch 48/100\n",
      "2429/2429 [==============================] - 35s 15ms/step - loss: 9.9313e-04\n",
      "Epoch 49/100\n",
      "2429/2429 [==============================] - 31s 13ms/step - loss: 9.0889e-04\n",
      "Epoch 50/100\n",
      "2429/2429 [==============================] - 32s 13ms/step - loss: 8.8762e-04\n",
      "Epoch 51/100\n",
      "2429/2429 [==============================] - 39s 16ms/step - loss: 9.4035e-04\n",
      "Epoch 52/100\n",
      "2429/2429 [==============================] - 33s 13ms/step - loss: 0.0010\n",
      "Epoch 53/100\n",
      "2429/2429 [==============================] - 33s 14ms/step - loss: 9.7678e-04\n",
      "Epoch 54/100\n",
      "2429/2429 [==============================] - 35s 14ms/step - loss: 9.9975e-04\n",
      "Epoch 55/100\n",
      "2429/2429 [==============================] - 38s 15ms/step - loss: 9.9895e-04\n",
      "Epoch 56/100\n",
      "2429/2429 [==============================] - 34s 14ms/step - loss: 9.4044e-04\n",
      "Epoch 57/100\n",
      "2429/2429 [==============================] - 33s 14ms/step - loss: 9.6736e-04\n",
      "Epoch 58/100\n",
      "2429/2429 [==============================] - 31s 13ms/step - loss: 8.3393e-04\n",
      "Epoch 59/100\n",
      "2429/2429 [==============================] - 31s 13ms/step - loss: 9.2053e-04\n",
      "Epoch 60/100\n",
      "2429/2429 [==============================] - 31s 13ms/step - loss: 8.8436e-04\n",
      "Epoch 61/100\n",
      "2429/2429 [==============================] - 32s 13ms/step - loss: 8.5324e-04\n",
      "Epoch 62/100\n",
      "2429/2429 [==============================] - 32s 13ms/step - loss: 9.2568e-04\n",
      "Epoch 63/100\n",
      "2429/2429 [==============================] - 33s 13ms/step - loss: 9.0387e-04\n",
      "Epoch 64/100\n",
      "2429/2429 [==============================] - 32s 13ms/step - loss: 8.8838e-04\n",
      "Epoch 65/100\n",
      "2429/2429 [==============================] - 32s 13ms/step - loss: 7.9377e-04\n",
      "Epoch 66/100\n",
      "2429/2429 [==============================] - 32s 13ms/step - loss: 9.2891e-04\n",
      "Epoch 67/100\n",
      "2429/2429 [==============================] - 32s 13ms/step - loss: 8.4100e-04\n",
      "Epoch 68/100\n",
      "2429/2429 [==============================] - 32s 13ms/step - loss: 7.7762e-04\n",
      "Epoch 69/100\n",
      "2429/2429 [==============================] - 31s 13ms/step - loss: 9.1958e-04\n",
      "Epoch 70/100\n",
      "2429/2429 [==============================] - 31s 13ms/step - loss: 8.5876e-04\n",
      "Epoch 71/100\n",
      "2429/2429 [==============================] - 31s 13ms/step - loss: 8.7742e-04\n",
      "Epoch 72/100\n",
      "2429/2429 [==============================] - 31s 13ms/step - loss: 7.7752e-04\n",
      "Epoch 73/100\n",
      "2429/2429 [==============================] - 33s 13ms/step - loss: 7.5214e-04\n",
      "Epoch 74/100\n",
      "2429/2429 [==============================] - 32s 13ms/step - loss: 8.6851e-04\n",
      "Epoch 75/100\n",
      "2429/2429 [==============================] - 35s 14ms/step - loss: 8.1814e-04\n",
      "Epoch 76/100\n",
      "2429/2429 [==============================] - 35s 14ms/step - loss: 8.8004e-04\n",
      "Epoch 77/100\n",
      "2429/2429 [==============================] - 32s 13ms/step - loss: 7.9268e-04\n",
      "Epoch 78/100\n",
      "2429/2429 [==============================] - 32s 13ms/step - loss: 7.4616e-04\n",
      "Epoch 79/100\n",
      "2429/2429 [==============================] - 40s 16ms/step - loss: 7.8462e-04\n",
      "Epoch 80/100\n",
      "2429/2429 [==============================] - 46s 19ms/step - loss: 7.7255e-04\n",
      "Epoch 81/100\n",
      "2429/2429 [==============================] - 41s 17ms/step - loss: 8.1168e-04\n",
      "Epoch 82/100\n",
      "2429/2429 [==============================] - 38s 16ms/step - loss: 7.5554e-04\n",
      "Epoch 83/100\n",
      "2429/2429 [==============================] - 38s 16ms/step - loss: 7.7552e-04\n",
      "Epoch 84/100\n",
      "2429/2429 [==============================] - 39s 16ms/step - loss: 8.0458e-04\n",
      "Epoch 85/100\n",
      "2429/2429 [==============================] - 38s 16ms/step - loss: 7.9942e-04\n",
      "Epoch 86/100\n",
      "2429/2429 [==============================] - 43s 18ms/step - loss: 8.2781e-04\n",
      "Epoch 87/100\n",
      "2429/2429 [==============================] - 48s 20ms/step - loss: 7.7478e-04\n",
      "Epoch 88/100\n",
      "2429/2429 [==============================] - 30s 12ms/step - loss: 7.0438e-04\n",
      "Epoch 89/100\n",
      "2429/2429 [==============================] - 36s 15ms/step - loss: 7.3499e-04\n",
      "Epoch 90/100\n",
      "2429/2429 [==============================] - 42s 17ms/step - loss: 8.2637e-04\n",
      "Epoch 91/100\n",
      "2429/2429 [==============================] - 49s 20ms/step - loss: 8.0905e-04\n",
      "Epoch 92/100\n",
      "2429/2429 [==============================] - 52s 21ms/step - loss: 7.6399e-04\n",
      "Epoch 93/100\n"
     ]
    },
    {
     "name": "stdout",
     "output_type": "stream",
     "text": [
      "2429/2429 [==============================] - 38s 16ms/step - loss: 7.8953e-04\n",
      "Epoch 94/100\n",
      "2429/2429 [==============================] - 40s 16ms/step - loss: 7.1246e-04\n",
      "Epoch 95/100\n",
      "2429/2429 [==============================] - 39s 16ms/step - loss: 7.4482e-04\n",
      "Epoch 96/100\n",
      "2429/2429 [==============================] - 41s 17ms/step - loss: 7.2500e-04\n",
      "Epoch 97/100\n",
      "2429/2429 [==============================] - 40s 17ms/step - loss: 7.5473e-04\n",
      "Epoch 98/100\n",
      "2429/2429 [==============================] - 42s 17ms/step - loss: 7.2609e-04\n",
      "Epoch 99/100\n",
      "2429/2429 [==============================] - 41s 17ms/step - loss: 8.1880e-04\n",
      "Epoch 100/100\n",
      "2429/2429 [==============================] - 40s 16ms/step - loss: 6.7956e-04\n"
     ]
    },
    {
     "data": {
      "text/plain": [
       "<keras.callbacks.History at 0x7efed92f5780>"
      ]
     },
     "execution_count": 33,
     "metadata": {},
     "output_type": "execute_result"
    }
   ],
   "source": [
    "regressor.fit(X_tr, y_tr, epochs = 100, batch_size = 32)"
   ]
  },
  {
   "cell_type": "code",
   "execution_count": 73,
   "metadata": {},
   "outputs": [],
   "source": [
    "dataset_test = pd.read_csv('Sony_1m.csv')"
   ]
  },
  {
   "cell_type": "code",
   "execution_count": 62,
   "metadata": {},
   "outputs": [],
   "source": [
    "real_stock_price = dataset_test.iloc[:, 1:2].values"
   ]
  },
  {
   "cell_type": "code",
   "execution_count": 63,
   "metadata": {},
   "outputs": [],
   "source": [
    "dataset_total = pd.concat((dataset_train['Open'], dataset_test['Open']), axis = 0)"
   ]
  },
  {
   "cell_type": "code",
   "execution_count": 75,
   "metadata": {},
   "outputs": [],
   "source": [
    "inputs = dataset_total[len(dataset_total) - len(dataset_test) - 90:].values \n"
   ]
  },
  {
   "cell_type": "code",
   "execution_count": 76,
   "metadata": {},
   "outputs": [],
   "source": [
    "inputs = inputs.reshape(-1,1)\n",
    "inputs = sc.transform(inputs)"
   ]
  },
  {
   "cell_type": "code",
   "execution_count": 77,
   "metadata": {},
   "outputs": [],
   "source": [
    "X_test = []"
   ]
  },
  {
   "cell_type": "code",
   "execution_count": 78,
   "metadata": {},
   "outputs": [],
   "source": [
    "for i in range(90, 110):\n",
    "    X_test.append(inputs[i-90:i, 0])"
   ]
  },
  {
   "cell_type": "code",
   "execution_count": 79,
   "metadata": {},
   "outputs": [],
   "source": [
    "X_test = np.array(X_test)"
   ]
  },
  {
   "cell_type": "code",
   "execution_count": 80,
   "metadata": {},
   "outputs": [],
   "source": [
    "X_test = np.reshape(X_test, (X_test.shape[0],X_test.shape[1], 1))"
   ]
  },
  {
   "cell_type": "code",
   "execution_count": 81,
   "metadata": {},
   "outputs": [],
   "source": [
    "predicted_stock_price = regressor.predict(X_test)"
   ]
  },
  {
   "cell_type": "code",
   "execution_count": 82,
   "metadata": {},
   "outputs": [],
   "source": [
    "predicted_stock_price = sc.inverse_transform(predicted_stock_price)"
   ]
  },
  {
   "cell_type": "code",
   "execution_count": 89,
   "metadata": {
    "scrolled": true
   },
   "outputs": [
    {
     "data": {
      "image/png": "[encoded data removed]",
      "text/plain": [
       "<Figure size 432x288 with 1 Axes>"
      ]
     },
     "metadata": {},
     "output_type": "display_data"
    }
   ],
   "source": [
    "plt.plot(real_stock_price, color = 'red', label =\n",
    "'Real Sony price')\n",
    "plt.plot(predicted_stock_price, color = 'blue', label =\n",
    "'Predicted Sony price')\n",
    "plt.title('Sony Stock Price Prediction')\n",
    "plt.xlabel('Time')\n",
    "plt.ylabel('Sony Stock Price')\n",
    "plt.legend()\n",
    "plt.show()"
   ]
  }
 ],
 "metadata": {
  "kernelspec": {
   "display_name": "Python 3",
   "language": "python",
   "name": "python3"
  },
  "language_info": {
   "codemirror_mode": {
    "name": "ipython",
    "version": 3
   },
   "file_extension": ".py",
   "mimetype": "text/x-python",
   "name": "python",
   "nbconvert_exporter": "python",
   "pygments_lexer": "ipython3",
   "version": "3.6.3"
  }
 },
 "nbformat": 4,
 "nbformat_minor": 2
}
